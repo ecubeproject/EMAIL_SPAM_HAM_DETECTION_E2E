{
 "cells": [
  {
   "cell_type": "markdown",
   "metadata": {},
   "source": "# https://pub.towardsai.net/end-to-end-machine-learning-project-development-spam-classifier-9fe6ca4efed2 "
  },
  {
   "metadata": {},
   "cell_type": "markdown",
   "source": "# Cornellius Yudha Wijaya Mar, 2024 Towards AI"
  },
  {
   "cell_type": "code",
   "metadata": {
    "ExecuteTime": {
     "end_time": "2024-09-13T08:44:20.358694Z",
     "start_time": "2024-09-13T08:44:20.351599Z"
    }
   },
   "source": [
    "import pandas as pd\n",
    "import seaborn as sns\n",
    "import numpy as np\n",
    "import matplotlib.pyplot as plt\n",
    "import warnings\n",
    "warnings.filterwarnings('ignore')"
   ],
   "outputs": [],
   "execution_count": 1
  },
  {
   "cell_type": "markdown",
   "metadata": {},
   "source": [
    "# Take data in. Data ingestion"
   ]
  },
  {
   "cell_type": "code",
   "metadata": {
    "ExecuteTime": {
     "end_time": "2024-09-13T08:44:21.967094Z",
     "start_time": "2024-09-13T08:44:21.587991Z"
    }
   },
   "source": [
    "df = pd.read_csv('spam_assassin.csv')\n",
    "df.head()"
   ],
   "outputs": [
    {
     "data": {
      "text/plain": [
       "                                                text target Unnamed: 2  \\\n",
       "0  From ilug-admin@linux.ie Mon Jul 29 11:28:02 2...      0        NaN   \n",
       "1  From gort44@excite.com Mon Jun 24 17:54:21 200...      1        NaN   \n",
       "2  From fork-admin@xent.com Mon Jul 29 11:39:57 2...      1        NaN   \n",
       "3  From dcm123@btamail.net.cn Mon Jun 24 17:49:23...      1        NaN   \n",
       "4  From ilug-admin@linux.ie Mon Aug 19 11:02:47 2...      0        NaN   \n",
       "\n",
       "  Unnamed: 3 Unnamed: 4 Unnamed: 5 Unnamed: 6 Unnamed: 7 Unnamed: 8  \\\n",
       "0        NaN        NaN        NaN        NaN        NaN        NaN   \n",
       "1        NaN        NaN        NaN        NaN        NaN        NaN   \n",
       "2        NaN        NaN        NaN        NaN        NaN        NaN   \n",
       "3        NaN        NaN        NaN        NaN        NaN        NaN   \n",
       "4        NaN        NaN        NaN        NaN        NaN        NaN   \n",
       "\n",
       "  Unnamed: 9  ... Unnamed: 428 Unnamed: 429 Unnamed: 430 Unnamed: 431  \\\n",
       "0        NaN  ...          NaN          NaN          NaN          NaN   \n",
       "1        NaN  ...          NaN          NaN          NaN          NaN   \n",
       "2        NaN  ...          NaN          NaN          NaN          NaN   \n",
       "3        NaN  ...          NaN          NaN          NaN          NaN   \n",
       "4        NaN  ...          NaN          NaN          NaN          NaN   \n",
       "\n",
       "  Unnamed: 432 Unnamed: 433 Unnamed: 434 Unnamed: 435 Unnamed: 436  \\\n",
       "0          NaN          NaN          NaN          NaN          NaN   \n",
       "1          NaN          NaN          NaN          NaN          NaN   \n",
       "2          NaN          NaN          NaN          NaN          NaN   \n",
       "3          NaN          NaN          NaN          NaN          NaN   \n",
       "4          NaN          NaN          NaN          NaN          NaN   \n",
       "\n",
       "  Unnamed: 437  \n",
       "0          NaN  \n",
       "1          NaN  \n",
       "2          NaN  \n",
       "3          NaN  \n",
       "4          NaN  \n",
       "\n",
       "[5 rows x 438 columns]"
      ],
      "text/html": [
       "<div>\n",
       "<style scoped>\n",
       "    .dataframe tbody tr th:only-of-type {\n",
       "        vertical-align: middle;\n",
       "    }\n",
       "\n",
       "    .dataframe tbody tr th {\n",
       "        vertical-align: top;\n",
       "    }\n",
       "\n",
       "    .dataframe thead th {\n",
       "        text-align: right;\n",
       "    }\n",
       "</style>\n",
       "<table border=\"1\" class=\"dataframe\">\n",
       "  <thead>\n",
       "    <tr style=\"text-align: right;\">\n",
       "      <th></th>\n",
       "      <th>text</th>\n",
       "      <th>target</th>\n",
       "      <th>Unnamed: 2</th>\n",
       "      <th>Unnamed: 3</th>\n",
       "      <th>Unnamed: 4</th>\n",
       "      <th>Unnamed: 5</th>\n",
       "      <th>Unnamed: 6</th>\n",
       "      <th>Unnamed: 7</th>\n",
       "      <th>Unnamed: 8</th>\n",
       "      <th>Unnamed: 9</th>\n",
       "      <th>...</th>\n",
       "      <th>Unnamed: 428</th>\n",
       "      <th>Unnamed: 429</th>\n",
       "      <th>Unnamed: 430</th>\n",
       "      <th>Unnamed: 431</th>\n",
       "      <th>Unnamed: 432</th>\n",
       "      <th>Unnamed: 433</th>\n",
       "      <th>Unnamed: 434</th>\n",
       "      <th>Unnamed: 435</th>\n",
       "      <th>Unnamed: 436</th>\n",
       "      <th>Unnamed: 437</th>\n",
       "    </tr>\n",
       "  </thead>\n",
       "  <tbody>\n",
       "    <tr>\n",
       "      <th>0</th>\n",
       "      <td>From ilug-admin@linux.ie Mon Jul 29 11:28:02 2...</td>\n",
       "      <td>0</td>\n",
       "      <td>NaN</td>\n",
       "      <td>NaN</td>\n",
       "      <td>NaN</td>\n",
       "      <td>NaN</td>\n",
       "      <td>NaN</td>\n",
       "      <td>NaN</td>\n",
       "      <td>NaN</td>\n",
       "      <td>NaN</td>\n",
       "      <td>...</td>\n",
       "      <td>NaN</td>\n",
       "      <td>NaN</td>\n",
       "      <td>NaN</td>\n",
       "      <td>NaN</td>\n",
       "      <td>NaN</td>\n",
       "      <td>NaN</td>\n",
       "      <td>NaN</td>\n",
       "      <td>NaN</td>\n",
       "      <td>NaN</td>\n",
       "      <td>NaN</td>\n",
       "    </tr>\n",
       "    <tr>\n",
       "      <th>1</th>\n",
       "      <td>From gort44@excite.com Mon Jun 24 17:54:21 200...</td>\n",
       "      <td>1</td>\n",
       "      <td>NaN</td>\n",
       "      <td>NaN</td>\n",
       "      <td>NaN</td>\n",
       "      <td>NaN</td>\n",
       "      <td>NaN</td>\n",
       "      <td>NaN</td>\n",
       "      <td>NaN</td>\n",
       "      <td>NaN</td>\n",
       "      <td>...</td>\n",
       "      <td>NaN</td>\n",
       "      <td>NaN</td>\n",
       "      <td>NaN</td>\n",
       "      <td>NaN</td>\n",
       "      <td>NaN</td>\n",
       "      <td>NaN</td>\n",
       "      <td>NaN</td>\n",
       "      <td>NaN</td>\n",
       "      <td>NaN</td>\n",
       "      <td>NaN</td>\n",
       "    </tr>\n",
       "    <tr>\n",
       "      <th>2</th>\n",
       "      <td>From fork-admin@xent.com Mon Jul 29 11:39:57 2...</td>\n",
       "      <td>1</td>\n",
       "      <td>NaN</td>\n",
       "      <td>NaN</td>\n",
       "      <td>NaN</td>\n",
       "      <td>NaN</td>\n",
       "      <td>NaN</td>\n",
       "      <td>NaN</td>\n",
       "      <td>NaN</td>\n",
       "      <td>NaN</td>\n",
       "      <td>...</td>\n",
       "      <td>NaN</td>\n",
       "      <td>NaN</td>\n",
       "      <td>NaN</td>\n",
       "      <td>NaN</td>\n",
       "      <td>NaN</td>\n",
       "      <td>NaN</td>\n",
       "      <td>NaN</td>\n",
       "      <td>NaN</td>\n",
       "      <td>NaN</td>\n",
       "      <td>NaN</td>\n",
       "    </tr>\n",
       "    <tr>\n",
       "      <th>3</th>\n",
       "      <td>From dcm123@btamail.net.cn Mon Jun 24 17:49:23...</td>\n",
       "      <td>1</td>\n",
       "      <td>NaN</td>\n",
       "      <td>NaN</td>\n",
       "      <td>NaN</td>\n",
       "      <td>NaN</td>\n",
       "      <td>NaN</td>\n",
       "      <td>NaN</td>\n",
       "      <td>NaN</td>\n",
       "      <td>NaN</td>\n",
       "      <td>...</td>\n",
       "      <td>NaN</td>\n",
       "      <td>NaN</td>\n",
       "      <td>NaN</td>\n",
       "      <td>NaN</td>\n",
       "      <td>NaN</td>\n",
       "      <td>NaN</td>\n",
       "      <td>NaN</td>\n",
       "      <td>NaN</td>\n",
       "      <td>NaN</td>\n",
       "      <td>NaN</td>\n",
       "    </tr>\n",
       "    <tr>\n",
       "      <th>4</th>\n",
       "      <td>From ilug-admin@linux.ie Mon Aug 19 11:02:47 2...</td>\n",
       "      <td>0</td>\n",
       "      <td>NaN</td>\n",
       "      <td>NaN</td>\n",
       "      <td>NaN</td>\n",
       "      <td>NaN</td>\n",
       "      <td>NaN</td>\n",
       "      <td>NaN</td>\n",
       "      <td>NaN</td>\n",
       "      <td>NaN</td>\n",
       "      <td>...</td>\n",
       "      <td>NaN</td>\n",
       "      <td>NaN</td>\n",
       "      <td>NaN</td>\n",
       "      <td>NaN</td>\n",
       "      <td>NaN</td>\n",
       "      <td>NaN</td>\n",
       "      <td>NaN</td>\n",
       "      <td>NaN</td>\n",
       "      <td>NaN</td>\n",
       "      <td>NaN</td>\n",
       "    </tr>\n",
       "  </tbody>\n",
       "</table>\n",
       "<p>5 rows × 438 columns</p>\n",
       "</div>"
      ]
     },
     "execution_count": 3,
     "metadata": {},
     "output_type": "execute_result"
    }
   ],
   "execution_count": 3
  },
  {
   "cell_type": "markdown",
   "metadata": {},
   "source": [
    "# Data_cleaning and preprocessing"
   ]
  },
  {
   "cell_type": "code",
   "metadata": {
    "ExecuteTime": {
     "end_time": "2024-09-13T08:44:27.956510Z",
     "start_time": "2024-09-13T08:44:27.947478Z"
    }
   },
   "source": [
    "cols_to_keep = ['text','target']\n",
    "df = df[cols_to_keep]\n",
    "df.head()"
   ],
   "outputs": [
    {
     "data": {
      "text/plain": [
       "                                                text target\n",
       "0  From ilug-admin@linux.ie Mon Jul 29 11:28:02 2...      0\n",
       "1  From gort44@excite.com Mon Jun 24 17:54:21 200...      1\n",
       "2  From fork-admin@xent.com Mon Jul 29 11:39:57 2...      1\n",
       "3  From dcm123@btamail.net.cn Mon Jun 24 17:49:23...      1\n",
       "4  From ilug-admin@linux.ie Mon Aug 19 11:02:47 2...      0"
      ],
      "text/html": [
       "<div>\n",
       "<style scoped>\n",
       "    .dataframe tbody tr th:only-of-type {\n",
       "        vertical-align: middle;\n",
       "    }\n",
       "\n",
       "    .dataframe tbody tr th {\n",
       "        vertical-align: top;\n",
       "    }\n",
       "\n",
       "    .dataframe thead th {\n",
       "        text-align: right;\n",
       "    }\n",
       "</style>\n",
       "<table border=\"1\" class=\"dataframe\">\n",
       "  <thead>\n",
       "    <tr style=\"text-align: right;\">\n",
       "      <th></th>\n",
       "      <th>text</th>\n",
       "      <th>target</th>\n",
       "    </tr>\n",
       "  </thead>\n",
       "  <tbody>\n",
       "    <tr>\n",
       "      <th>0</th>\n",
       "      <td>From ilug-admin@linux.ie Mon Jul 29 11:28:02 2...</td>\n",
       "      <td>0</td>\n",
       "    </tr>\n",
       "    <tr>\n",
       "      <th>1</th>\n",
       "      <td>From gort44@excite.com Mon Jun 24 17:54:21 200...</td>\n",
       "      <td>1</td>\n",
       "    </tr>\n",
       "    <tr>\n",
       "      <th>2</th>\n",
       "      <td>From fork-admin@xent.com Mon Jul 29 11:39:57 2...</td>\n",
       "      <td>1</td>\n",
       "    </tr>\n",
       "    <tr>\n",
       "      <th>3</th>\n",
       "      <td>From dcm123@btamail.net.cn Mon Jun 24 17:49:23...</td>\n",
       "      <td>1</td>\n",
       "    </tr>\n",
       "    <tr>\n",
       "      <th>4</th>\n",
       "      <td>From ilug-admin@linux.ie Mon Aug 19 11:02:47 2...</td>\n",
       "      <td>0</td>\n",
       "    </tr>\n",
       "  </tbody>\n",
       "</table>\n",
       "</div>"
      ]
     },
     "execution_count": 4,
     "metadata": {},
     "output_type": "execute_result"
    }
   ],
   "execution_count": 4
  },
  {
   "cell_type": "code",
   "metadata": {
    "ExecuteTime": {
     "end_time": "2024-09-13T08:44:31.455480Z",
     "start_time": "2024-09-13T08:44:31.443306Z"
    }
   },
   "source": [
    "df.tail()"
   ],
   "outputs": [
    {
     "data": {
      "text/plain": [
       "                                                   text target\n",
       "5821  From ilug-admin@linux.ie Mon Jul 22 18:12:45 2...      0\n",
       "5822  From fork-admin@xent.com Mon Oct 7 20:37:02 20...      0\n",
       "5823  Received: from hq.pro-ns.net (localhost [127.0...      1\n",
       "5824  From razor-users-admin@lists.sourceforge.net T...      0\n",
       "5825  From rssfeeds@jmason.org Mon Sep 30 13:44:10 2...      0"
      ],
      "text/html": [
       "<div>\n",
       "<style scoped>\n",
       "    .dataframe tbody tr th:only-of-type {\n",
       "        vertical-align: middle;\n",
       "    }\n",
       "\n",
       "    .dataframe tbody tr th {\n",
       "        vertical-align: top;\n",
       "    }\n",
       "\n",
       "    .dataframe thead th {\n",
       "        text-align: right;\n",
       "    }\n",
       "</style>\n",
       "<table border=\"1\" class=\"dataframe\">\n",
       "  <thead>\n",
       "    <tr style=\"text-align: right;\">\n",
       "      <th></th>\n",
       "      <th>text</th>\n",
       "      <th>target</th>\n",
       "    </tr>\n",
       "  </thead>\n",
       "  <tbody>\n",
       "    <tr>\n",
       "      <th>5821</th>\n",
       "      <td>From ilug-admin@linux.ie Mon Jul 22 18:12:45 2...</td>\n",
       "      <td>0</td>\n",
       "    </tr>\n",
       "    <tr>\n",
       "      <th>5822</th>\n",
       "      <td>From fork-admin@xent.com Mon Oct 7 20:37:02 20...</td>\n",
       "      <td>0</td>\n",
       "    </tr>\n",
       "    <tr>\n",
       "      <th>5823</th>\n",
       "      <td>Received: from hq.pro-ns.net (localhost [127.0...</td>\n",
       "      <td>1</td>\n",
       "    </tr>\n",
       "    <tr>\n",
       "      <th>5824</th>\n",
       "      <td>From razor-users-admin@lists.sourceforge.net T...</td>\n",
       "      <td>0</td>\n",
       "    </tr>\n",
       "    <tr>\n",
       "      <th>5825</th>\n",
       "      <td>From rssfeeds@jmason.org Mon Sep 30 13:44:10 2...</td>\n",
       "      <td>0</td>\n",
       "    </tr>\n",
       "  </tbody>\n",
       "</table>\n",
       "</div>"
      ]
     },
     "execution_count": 5,
     "metadata": {},
     "output_type": "execute_result"
    }
   ],
   "execution_count": 5
  },
  {
   "cell_type": "code",
   "metadata": {
    "ExecuteTime": {
     "end_time": "2024-09-13T08:44:34.662727Z",
     "start_time": "2024-09-13T08:44:34.658221Z"
    }
   },
   "source": [
    "df.shape"
   ],
   "outputs": [
    {
     "data": {
      "text/plain": [
       "(5826, 2)"
      ]
     },
     "execution_count": 6,
     "metadata": {},
     "output_type": "execute_result"
    }
   ],
   "execution_count": 6
  },
  {
   "cell_type": "code",
   "metadata": {
    "ExecuteTime": {
     "end_time": "2024-09-13T08:44:39.207611Z",
     "start_time": "2024-09-13T08:44:39.196814Z"
    }
   },
   "source": [
    "df.dtypes"
   ],
   "outputs": [
    {
     "data": {
      "text/plain": [
       "text      object\n",
       "target    object\n",
       "dtype: object"
      ]
     },
     "execution_count": 7,
     "metadata": {},
     "output_type": "execute_result"
    }
   ],
   "execution_count": 7
  },
  {
   "cell_type": "code",
   "metadata": {
    "ExecuteTime": {
     "end_time": "2024-09-13T08:44:43.911808Z",
     "start_time": "2024-09-13T08:44:43.905139Z"
    }
   },
   "source": [
    "# count if there are Nan values in dataset 'text' column\n",
    "sum(df['text'].isna())"
   ],
   "outputs": [
    {
     "data": {
      "text/plain": [
       "0"
      ]
     },
     "execution_count": 8,
     "metadata": {},
     "output_type": "execute_result"
    }
   ],
   "execution_count": 8
  },
  {
   "cell_type": "code",
   "metadata": {
    "ExecuteTime": {
     "end_time": "2024-09-13T08:44:50.351492Z",
     "start_time": "2024-09-13T08:44:50.345613Z"
    }
   },
   "source": [
    "# drop all rows where 'text' column has NaN values\n",
    "df.dropna(subset=['text'], inplace=True)"
   ],
   "outputs": [],
   "execution_count": 10
  },
  {
   "cell_type": "code",
   "metadata": {
    "ExecuteTime": {
     "end_time": "2024-09-13T08:44:52.298285Z",
     "start_time": "2024-09-13T08:44:52.291869Z"
    }
   },
   "source": [
    "# count if there are Nan values in dataset 'target' column\n",
    "sum(df['target'].isna())"
   ],
   "outputs": [
    {
     "data": {
      "text/plain": [
       "30"
      ]
     },
     "execution_count": 11,
     "metadata": {},
     "output_type": "execute_result"
    }
   ],
   "execution_count": 11
  },
  {
   "cell_type": "code",
   "metadata": {
    "ExecuteTime": {
     "end_time": "2024-09-13T08:44:54.302441Z",
     "start_time": "2024-09-13T08:44:54.293530Z"
    }
   },
   "source": [
    "# As there are more than 5000 records drop these rows\n",
    "# too\n",
    "df.dropna(subset=['target'], inplace=True)"
   ],
   "outputs": [],
   "execution_count": 12
  },
  {
   "cell_type": "code",
   "metadata": {
    "ExecuteTime": {
     "end_time": "2024-09-13T08:44:58.179174Z",
     "start_time": "2024-09-13T08:44:58.169499Z"
    }
   },
   "source": [
    "# check if NaNs are removed\n",
    "print(sum(df['text'].isna()))\n",
    "print(sum(df['target'].isna()))"
   ],
   "outputs": [
    {
     "name": "stdout",
     "output_type": "stream",
     "text": [
      "0\n",
      "0\n"
     ]
    }
   ],
   "execution_count": 13
  },
  {
   "cell_type": "code",
   "metadata": {
    "ExecuteTime": {
     "end_time": "2024-09-13T08:45:00.873975Z",
     "start_time": "2024-09-13T08:45:00.621437Z"
    }
   },
   "source": [
    "# Add two more columns \n",
    "df['text_length'] = df['text'].apply(len)\n",
    "df['email_words'] = df['text'].str.split().apply(len)\n",
    "df.head()"
   ],
   "outputs": [
    {
     "data": {
      "text/plain": [
       "                                                text target  text_length  \\\n",
       "0  From ilug-admin@linux.ie Mon Jul 29 11:28:02 2...      0         4098   \n",
       "1  From gort44@excite.com Mon Jun 24 17:54:21 200...      1         2189   \n",
       "2  From fork-admin@xent.com Mon Jul 29 11:39:57 2...      1         3598   \n",
       "3  From dcm123@btamail.net.cn Mon Jun 24 17:49:23...      1         1918   \n",
       "4  From ilug-admin@linux.ie Mon Aug 19 11:02:47 2...      0         3060   \n",
       "\n",
       "   email_words  \n",
       "0          558  \n",
       "1          295  \n",
       "2          386  \n",
       "3          153  \n",
       "4          399  "
      ],
      "text/html": [
       "<div>\n",
       "<style scoped>\n",
       "    .dataframe tbody tr th:only-of-type {\n",
       "        vertical-align: middle;\n",
       "    }\n",
       "\n",
       "    .dataframe tbody tr th {\n",
       "        vertical-align: top;\n",
       "    }\n",
       "\n",
       "    .dataframe thead th {\n",
       "        text-align: right;\n",
       "    }\n",
       "</style>\n",
       "<table border=\"1\" class=\"dataframe\">\n",
       "  <thead>\n",
       "    <tr style=\"text-align: right;\">\n",
       "      <th></th>\n",
       "      <th>text</th>\n",
       "      <th>target</th>\n",
       "      <th>text_length</th>\n",
       "      <th>email_words</th>\n",
       "    </tr>\n",
       "  </thead>\n",
       "  <tbody>\n",
       "    <tr>\n",
       "      <th>0</th>\n",
       "      <td>From ilug-admin@linux.ie Mon Jul 29 11:28:02 2...</td>\n",
       "      <td>0</td>\n",
       "      <td>4098</td>\n",
       "      <td>558</td>\n",
       "    </tr>\n",
       "    <tr>\n",
       "      <th>1</th>\n",
       "      <td>From gort44@excite.com Mon Jun 24 17:54:21 200...</td>\n",
       "      <td>1</td>\n",
       "      <td>2189</td>\n",
       "      <td>295</td>\n",
       "    </tr>\n",
       "    <tr>\n",
       "      <th>2</th>\n",
       "      <td>From fork-admin@xent.com Mon Jul 29 11:39:57 2...</td>\n",
       "      <td>1</td>\n",
       "      <td>3598</td>\n",
       "      <td>386</td>\n",
       "    </tr>\n",
       "    <tr>\n",
       "      <th>3</th>\n",
       "      <td>From dcm123@btamail.net.cn Mon Jun 24 17:49:23...</td>\n",
       "      <td>1</td>\n",
       "      <td>1918</td>\n",
       "      <td>153</td>\n",
       "    </tr>\n",
       "    <tr>\n",
       "      <th>4</th>\n",
       "      <td>From ilug-admin@linux.ie Mon Aug 19 11:02:47 2...</td>\n",
       "      <td>0</td>\n",
       "      <td>3060</td>\n",
       "      <td>399</td>\n",
       "    </tr>\n",
       "  </tbody>\n",
       "</table>\n",
       "</div>"
      ]
     },
     "execution_count": 14,
     "metadata": {},
     "output_type": "execute_result"
    }
   ],
   "execution_count": 14
  },
  {
   "cell_type": "code",
   "metadata": {
    "ExecuteTime": {
     "end_time": "2024-09-13T08:45:04.485976Z",
     "start_time": "2024-09-13T08:45:04.478953Z"
    }
   },
   "source": [
    "df.dtypes"
   ],
   "outputs": [
    {
     "data": {
      "text/plain": [
       "text           object\n",
       "target         object\n",
       "text_length     int64\n",
       "email_words     int64\n",
       "dtype: object"
      ]
     },
     "execution_count": 15,
     "metadata": {},
     "output_type": "execute_result"
    }
   ],
   "execution_count": 15
  },
  {
   "cell_type": "code",
   "metadata": {
    "ExecuteTime": {
     "end_time": "2024-09-13T08:45:07.821678Z",
     "start_time": "2024-09-13T08:45:07.809584Z"
    }
   },
   "source": [
    "#checking for rows where 'target' column has values\n",
    "# other than '0' or '1'\n",
    "invalid_rows = df.loc[(df['target'] != '0') & (df['target'] != '1')]\n",
    "print(len(invalid_rows))\n",
    "invalid_rows"
   ],
   "outputs": [
    {
     "name": "stdout",
     "output_type": "stream",
     "text": [
      "9\n"
     ]
    },
    {
     "data": {
      "text/plain": [
       "                                                   text  \\\n",
       "408    lift some of its > neighbors out of poverty a...   \n",
       "521                                                 Hit   \n",
       "866             the business of His Majesty King Remios   \n",
       "952   mail client cannot properly display HTML. You ...   \n",
       "1253  EE. <br>That's a value of over $700.00! Respon...   \n",
       "1615  his threatens both a core value of the United ...   \n",
       "3441                                                  t   \n",
       "3873                                              Lycos   \n",
       "4307  ew preference 'sshversion' can be used to cont...   \n",
       "\n",
       "                                                 target  text_length  \\\n",
       "408                                 particularly Mexico          255   \n",
       "521                                           AlltheWeb            3   \n",
       "866    Iroijlaplap of the Northern Ratak atolls of t...           39   \n",
       "952    06-29-01</title> </head> <body bgcolor=\"\"#fff...          147   \n",
       "1253   <br>and increase your chances to win with fou...           69   \n",
       "1615                                          therefore          181   \n",
       "3441   it is pretty easy to manage. It is based on a...            1   \n",
       "3873                                         WebCrawler            5   \n",
       "4307   which will make unison use whatever version o...          155   \n",
       "\n",
       "      email_words  \n",
       "408            44  \n",
       "521             1  \n",
       "866             7  \n",
       "952            23  \n",
       "1253           12  \n",
       "1615           28  \n",
       "3441            1  \n",
       "3873            1  \n",
       "4307           29  "
      ],
      "text/html": [
       "<div>\n",
       "<style scoped>\n",
       "    .dataframe tbody tr th:only-of-type {\n",
       "        vertical-align: middle;\n",
       "    }\n",
       "\n",
       "    .dataframe tbody tr th {\n",
       "        vertical-align: top;\n",
       "    }\n",
       "\n",
       "    .dataframe thead th {\n",
       "        text-align: right;\n",
       "    }\n",
       "</style>\n",
       "<table border=\"1\" class=\"dataframe\">\n",
       "  <thead>\n",
       "    <tr style=\"text-align: right;\">\n",
       "      <th></th>\n",
       "      <th>text</th>\n",
       "      <th>target</th>\n",
       "      <th>text_length</th>\n",
       "      <th>email_words</th>\n",
       "    </tr>\n",
       "  </thead>\n",
       "  <tbody>\n",
       "    <tr>\n",
       "      <th>408</th>\n",
       "      <td>lift some of its &gt; neighbors out of poverty a...</td>\n",
       "      <td>particularly Mexico</td>\n",
       "      <td>255</td>\n",
       "      <td>44</td>\n",
       "    </tr>\n",
       "    <tr>\n",
       "      <th>521</th>\n",
       "      <td>Hit</td>\n",
       "      <td>AlltheWeb</td>\n",
       "      <td>3</td>\n",
       "      <td>1</td>\n",
       "    </tr>\n",
       "    <tr>\n",
       "      <th>866</th>\n",
       "      <td>the business of His Majesty King Remios</td>\n",
       "      <td>Iroijlaplap of the Northern Ratak atolls of t...</td>\n",
       "      <td>39</td>\n",
       "      <td>7</td>\n",
       "    </tr>\n",
       "    <tr>\n",
       "      <th>952</th>\n",
       "      <td>mail client cannot properly display HTML. You ...</td>\n",
       "      <td>06-29-01&lt;/title&gt; &lt;/head&gt; &lt;body bgcolor=\"\"#fff...</td>\n",
       "      <td>147</td>\n",
       "      <td>23</td>\n",
       "    </tr>\n",
       "    <tr>\n",
       "      <th>1253</th>\n",
       "      <td>EE. &lt;br&gt;That's a value of over $700.00! Respon...</td>\n",
       "      <td>&lt;br&gt;and increase your chances to win with fou...</td>\n",
       "      <td>69</td>\n",
       "      <td>12</td>\n",
       "    </tr>\n",
       "    <tr>\n",
       "      <th>1615</th>\n",
       "      <td>his threatens both a core value of the United ...</td>\n",
       "      <td>therefore</td>\n",
       "      <td>181</td>\n",
       "      <td>28</td>\n",
       "    </tr>\n",
       "    <tr>\n",
       "      <th>3441</th>\n",
       "      <td>t</td>\n",
       "      <td>it is pretty easy to manage. It is based on a...</td>\n",
       "      <td>1</td>\n",
       "      <td>1</td>\n",
       "    </tr>\n",
       "    <tr>\n",
       "      <th>3873</th>\n",
       "      <td>Lycos</td>\n",
       "      <td>WebCrawler</td>\n",
       "      <td>5</td>\n",
       "      <td>1</td>\n",
       "    </tr>\n",
       "    <tr>\n",
       "      <th>4307</th>\n",
       "      <td>ew preference 'sshversion' can be used to cont...</td>\n",
       "      <td>which will make unison use whatever version o...</td>\n",
       "      <td>155</td>\n",
       "      <td>29</td>\n",
       "    </tr>\n",
       "  </tbody>\n",
       "</table>\n",
       "</div>"
      ]
     },
     "execution_count": 16,
     "metadata": {},
     "output_type": "execute_result"
    }
   ],
   "execution_count": 16
  },
  {
   "cell_type": "code",
   "metadata": {
    "ExecuteTime": {
     "end_time": "2024-09-13T08:45:12.246211Z",
     "start_time": "2024-09-13T08:45:12.238553Z"
    }
   },
   "source": [
    "# drop invalid_rows Or keep only valid rows\n",
    "clean_df = df[(df['target'] == '0') | (df['target'] == '1')]\n",
    "clean_df.shape"
   ],
   "outputs": [
    {
     "data": {
      "text/plain": [
       "(5787, 4)"
      ]
     },
     "execution_count": 17,
     "metadata": {},
     "output_type": "execute_result"
    }
   ],
   "execution_count": 17
  },
  {
   "cell_type": "code",
   "metadata": {
    "ExecuteTime": {
     "end_time": "2024-09-13T08:45:15.539774Z",
     "start_time": "2024-09-13T08:45:15.529318Z"
    }
   },
   "source": [
    "# Convert 'target' column from object to integer\n",
    "clean_df['target'] = clean_df['target'].astype(int)"
   ],
   "outputs": [],
   "execution_count": 18
  },
  {
   "cell_type": "code",
   "metadata": {
    "ExecuteTime": {
     "end_time": "2024-09-13T08:45:18.506061Z",
     "start_time": "2024-09-13T08:45:18.493115Z"
    }
   },
   "source": [
    "clean_df.dtypes"
   ],
   "outputs": [
    {
     "data": {
      "text/plain": [
       "text           object\n",
       "target          int32\n",
       "text_length     int64\n",
       "email_words     int64\n",
       "dtype: object"
      ]
     },
     "execution_count": 19,
     "metadata": {},
     "output_type": "execute_result"
    }
   ],
   "execution_count": 19
  },
  {
   "cell_type": "markdown",
   "metadata": {},
   "source": [
    "# Visual Analytics"
   ]
  },
  {
   "cell_type": "code",
   "metadata": {
    "ExecuteTime": {
     "end_time": "2024-09-13T08:45:25.401483Z",
     "start_time": "2024-09-13T08:45:24.951995Z"
    }
   },
   "source": [
    "# Using Seaborn to see the differences between spam and non-spam for the number of words.\n",
    "import seaborn as sns\n",
    "import matplotlib.pyplot as plt\n",
    "\n",
    "# Create a new DataFrame with numerical columns\n",
    "num_df = clean_df[['text_length', 'email_words', 'target']]\n",
    "\n",
    "# Plot histograms for text length\n",
    "sns.histplot(num_df[num_df['target'] == 0]['text_length'], color='blue', label='Non-Spam', kde=False, log_scale=True)\n",
    "sns.histplot(num_df[num_df['target'] == 1]['text_length'], color='orange', label='Spam', kde=False, log_scale=True)\n",
    "\n",
    "plt.xlabel('Length of Email')\n",
    "plt.ylabel('Count of Emails')\n",
    "plt.title('Distribution of Email Text Length for Spam and Non-Spam Emails')\n",
    "plt.legend()\n",
    "plt.show()"
   ],
   "outputs": [
    {
     "data": {
      "text/plain": [
       "<Figure size 640x480 with 1 Axes>"
      ],
      "image/png": "[encoded data removed]"
     },
     "metadata": {},
     "output_type": "display_data"
    }
   ],
   "execution_count": 21
  },
  {
   "cell_type": "code",
   "metadata": {
    "ExecuteTime": {
     "end_time": "2024-09-13T08:45:30.009851Z",
     "start_time": "2024-09-13T08:45:29.479280Z"
    }
   },
   "source": [
    "# Plot histograms for eamil_words\n",
    "sns.histplot(num_df[num_df['target'] == 0]['email_words'], color='blue', label='Non-Spam', kde=False, log_scale=True)\n",
    "sns.histplot(num_df[num_df['target'] == 1]['email_words'], color='orange', label='Spam', kde=False, log_scale=True)\n",
    "\n",
    "plt.xlabel('Number 0f words in email')\n",
    "plt.ylabel('Count of Emails')\n",
    "plt.title('Distribution of email_words for Spam and Non-Spam Emails')\n",
    "plt.legend()\n",
    "plt.show()"
   ],
   "outputs": [
    {
     "data": {
      "text/plain": [
       "<Figure size 640x480 with 1 Axes>"
      ],
      "image/png": "[encoded data removed]"
     },
     "metadata": {},
     "output_type": "display_data"
    }
   ],
   "execution_count": 22
  },
  {
   "cell_type": "markdown",
   "metadata": {},
   "source": [
    "# Some more data preprocessing"
   ]
  },
  {
   "cell_type": "code",
   "metadata": {
    "ExecuteTime": {
     "end_time": "2024-09-13T08:45:34.391158Z",
     "start_time": "2024-09-13T08:45:34.382672Z"
    }
   },
   "source": [
    "# Find count of records with target == 0 and \n",
    "# target == 1\n",
    "target_counts = clean_df['target'].value_counts()\n",
    "\n",
    "# Print the counts\n",
    "print(\"Count of records with target == 0:\", target_counts[0])\n",
    "print(\"Count of records with target == 1:\", target_counts[1])"
   ],
   "outputs": [
    {
     "name": "stdout",
     "output_type": "stream",
     "text": [
      "Count of records with target == 0: 3896\n",
      "Count of records with target == 1: 1891\n"
     ]
    }
   ],
   "execution_count": 23
  },
  {
   "cell_type": "code",
   "metadata": {
    "ExecuteTime": {
     "end_time": "2024-09-13T08:45:39.308233Z",
     "start_time": "2024-09-13T08:45:38.555649Z"
    }
   },
   "source": [
    "# Using under sampling to create a balanced dataset\n",
    "from imblearn.under_sampling import RandomUnderSampler\n",
    "\n",
    "# Assuming df is your pandas DataFrame\n",
    "# Separate features and target variable\n",
    "X = clean_df[['text','text_length', 'email_words']]\n",
    "y = clean_df['target']\n",
    "\n",
    "# Initialize RandomUnderSampler\n",
    "undersampler = RandomUnderSampler(random_state=42)\n",
    "\n",
    "# Resample the dataset\n",
    "X_resampled, y_resampled = undersampler.fit_resample(X, y)\n",
    "\n",
    "# Create a new balanced DataFrame\n",
    "balanced_df = pd.concat([X_resampled, y_resampled], axis=1)\n",
    "\n",
    "# Check the class distribution in the balanced DataFrame\n",
    "print(balanced_df['target'].value_counts())"
   ],
   "outputs": [
    {
     "name": "stdout",
     "output_type": "stream",
     "text": [
      "target\n",
      "0    1891\n",
      "1    1891\n",
      "Name: count, dtype: int64\n"
     ]
    }
   ],
   "execution_count": 24
  },
  {
   "cell_type": "code",
   "metadata": {
    "ExecuteTime": {
     "end_time": "2024-09-13T08:45:41.519940Z",
     "start_time": "2024-09-13T08:45:41.514655Z"
    }
   },
   "source": [
    "\n",
    "print(balanced_df.shape)"
   ],
   "outputs": [
    {
     "name": "stdout",
     "output_type": "stream",
     "text": [
      "(3782, 4)\n"
     ]
    }
   ],
   "execution_count": 25
  },
  {
   "cell_type": "markdown",
   "metadata": {},
   "source": [
    "# Finally, visualize the complete preprocessed data"
   ]
  },
  {
   "cell_type": "code",
   "metadata": {
    "ExecuteTime": {
     "end_time": "2024-09-13T08:45:45.670171Z",
     "start_time": "2024-09-13T08:45:45.240671Z"
    }
   },
   "source": [
    "# Plot histograms for text length for balanced data\n",
    "sns.histplot(num_df[num_df['target'] == 0]['text_length'], color='blue', label='Non-Spam', kde=False, log_scale=True)\n",
    "sns.histplot(num_df[num_df['target'] == 1]['text_length'], color='orange', label='Spam', kde=False, log_scale=True)\n",
    "\n",
    "plt.xlabel('Length of Email')\n",
    "plt.ylabel('Count of Emails')\n",
    "plt.title('Distribution of Email Text Length for Spam and Non-Spam Emails')\n",
    "plt.legend()\n",
    "plt.show()"
   ],
   "outputs": [
    {
     "data": {
      "text/plain": [
       "<Figure size 640x480 with 1 Axes>"
      ],
      "image/png": "[encoded data removed]"
     },
     "metadata": {},
     "output_type": "display_data"
    }
   ],
   "execution_count": 26
  },
  {
   "cell_type": "code",
   "metadata": {
    "ExecuteTime": {
     "end_time": "2024-09-13T08:45:50.391770Z",
     "start_time": "2024-09-13T08:45:49.935690Z"
    }
   },
   "source": [
    "# Plot histograms for eamil_words for balanced data\n",
    "sns.histplot(num_df[num_df['target'] == 0]['email_words'], color='blue', label='Non-Spam', kde=False, log_scale=True)\n",
    "sns.histplot(num_df[num_df['target'] == 1]['email_words'], color='orange', label='Spam', kde=False, log_scale=True)\n",
    "\n",
    "plt.xlabel('Number 0f words in email')\n",
    "plt.ylabel('Count of Emails')\n",
    "plt.title('Distribution of email_words for Spam and Non-Spam Emails')\n",
    "plt.legend()\n",
    "plt.show()"
   ],
   "outputs": [
    {
     "data": {
      "text/plain": [
       "<Figure size 640x480 with 1 Axes>"
      ],
      "image/png": "[encoded data removed]"
     },
     "metadata": {},
     "output_type": "display_data"
    }
   ],
   "execution_count": 27
  },
  {
   "cell_type": "markdown",
   "metadata": {},
   "source": [
    "# Above plots show that spam emails have a considerably longer  word-count and length  than non-spam emails."
   ]
  },
  {
   "cell_type": "markdown",
   "metadata": {},
   "source": [
    "    # NOW SWITCH TO COMMAND LINE/ TERMINAL\n",
    "# EXECUTE pip install mlflow (REQUIRED ONCE ONLY)\n",
    "# execute mlflow ui (REQUIRED EVERY TIME YOU RUN THIS EXPERIMENT)"
   ]
  },
  {
   "cell_type": "markdown",
   "metadata": {},
   "source": [
    "PS D:\\EMAIL_SPAM_HAM_CLASSIFICATION\\SPAM_ASSASSIN_PROJECT> mlflow ui\n",
    "INFO:waitress:Serving on http://127.0.0.1:5000 "
   ]
  },
  {
   "cell_type": "markdown",
   "metadata": {},
   "source": [
    "![Here_is_mlflow_ui_running_in_browser](MLFLOW_UI.png)"
   ]
  },
  {
   "cell_type": "markdown",
   "metadata": {},
   "source": [
    "# Model Development and Experiment Tracking with MLFlow"
   ]
  },
  {
   "cell_type": "code",
   "metadata": {
    "ExecuteTime": {
     "end_time": "2024-09-13T08:47:11.454164Z",
     "start_time": "2024-09-13T08:47:11.443888Z"
    }
   },
   "source": [
    "# create train-test data-set\n",
    "#Splitting the dataset into training and test. \n",
    "from sklearn.model_selection import train_test_split\n",
    "X_train, X_test, y_train, y_test = train_test_split(balanced_df.drop('target', axis =1), balanced_df['target'], test_size = 0.2, stratify = balanced_df['target'], random_state = 42)"
   ],
   "outputs": [],
   "execution_count": 28
  },
  {
   "cell_type": "code",
   "metadata": {
    "ExecuteTime": {
     "end_time": "2024-09-13T08:47:13.808003Z",
     "start_time": "2024-09-13T08:47:13.797465Z"
    }
   },
   "source": [
    "X_train.head()"
   ],
   "outputs": [
    {
     "data": {
      "text/plain": [
       "                                                   text  text_length  \\\n",
       "5813  From bmortgage@ig.com.br Sun Sep 22 23:59:12 2...         5725   \n",
       "4395  From floyd@streamlineb2b.net Mon Jun 24 17:45:...         3099   \n",
       "5207  From bmt988b@netscape.net Mon Jun 24 17:06:38 ...        12074   \n",
       "3981  From moviedbjwuede@mandic.com.br Mon Dec 2 11:...         1530   \n",
       "2211  Received: from hq.pro-ns.net (localhost [127.0...         3849   \n",
       "\n",
       "      email_words  \n",
       "5813          564  \n",
       "4395          431  \n",
       "5207         1087  \n",
       "3981          198  \n",
       "2211          363  "
      ],
      "text/html": [
       "<div>\n",
       "<style scoped>\n",
       "    .dataframe tbody tr th:only-of-type {\n",
       "        vertical-align: middle;\n",
       "    }\n",
       "\n",
       "    .dataframe tbody tr th {\n",
       "        vertical-align: top;\n",
       "    }\n",
       "\n",
       "    .dataframe thead th {\n",
       "        text-align: right;\n",
       "    }\n",
       "</style>\n",
       "<table border=\"1\" class=\"dataframe\">\n",
       "  <thead>\n",
       "    <tr style=\"text-align: right;\">\n",
       "      <th></th>\n",
       "      <th>text</th>\n",
       "      <th>text_length</th>\n",
       "      <th>email_words</th>\n",
       "    </tr>\n",
       "  </thead>\n",
       "  <tbody>\n",
       "    <tr>\n",
       "      <th>5813</th>\n",
       "      <td>From bmortgage@ig.com.br Sun Sep 22 23:59:12 2...</td>\n",
       "      <td>5725</td>\n",
       "      <td>564</td>\n",
       "    </tr>\n",
       "    <tr>\n",
       "      <th>4395</th>\n",
       "      <td>From floyd@streamlineb2b.net Mon Jun 24 17:45:...</td>\n",
       "      <td>3099</td>\n",
       "      <td>431</td>\n",
       "    </tr>\n",
       "    <tr>\n",
       "      <th>5207</th>\n",
       "      <td>From bmt988b@netscape.net Mon Jun 24 17:06:38 ...</td>\n",
       "      <td>12074</td>\n",
       "      <td>1087</td>\n",
       "    </tr>\n",
       "    <tr>\n",
       "      <th>3981</th>\n",
       "      <td>From moviedbjwuede@mandic.com.br Mon Dec 2 11:...</td>\n",
       "      <td>1530</td>\n",
       "      <td>198</td>\n",
       "    </tr>\n",
       "    <tr>\n",
       "      <th>2211</th>\n",
       "      <td>Received: from hq.pro-ns.net (localhost [127.0...</td>\n",
       "      <td>3849</td>\n",
       "      <td>363</td>\n",
       "    </tr>\n",
       "  </tbody>\n",
       "</table>\n",
       "</div>"
      ]
     },
     "execution_count": 29,
     "metadata": {},
     "output_type": "execute_result"
    }
   ],
   "execution_count": 29
  },
  {
   "cell_type": "code",
   "metadata": {
    "ExecuteTime": {
     "end_time": "2024-09-13T08:47:18.014731Z",
     "start_time": "2024-09-13T08:47:18.009093Z"
    }
   },
   "source": [
    "X_train.shape"
   ],
   "outputs": [
    {
     "data": {
      "text/plain": [
       "(3025, 3)"
      ]
     },
     "execution_count": 30,
     "metadata": {},
     "output_type": "execute_result"
    }
   ],
   "execution_count": 30
  },
  {
   "cell_type": "code",
   "metadata": {
    "ExecuteTime": {
     "end_time": "2024-09-13T08:47:21.376601Z",
     "start_time": "2024-09-13T08:47:21.101061Z"
    }
   },
   "source": [
    "# Concatenate X_train and y_train along axis=1 to form training_data we will require it for model drift analysis\n",
    "training_data = pd.concat([X_train, y_train], axis=1)\n",
    "print(training_data.shape)\n",
    "\n",
    "# Save training_data as training_data.csv\n",
    "training_data.to_csv('training_data.csv', index=False)"
   ],
   "outputs": [
    {
     "name": "stdout",
     "output_type": "stream",
     "text": [
      "(3025, 4)\n"
     ]
    }
   ],
   "execution_count": 31
  },
  {
   "cell_type": "code",
   "metadata": {
    "ExecuteTime": {
     "end_time": "2024-09-13T08:49:18.937370Z",
     "start_time": "2024-09-13T08:49:18.911001Z"
    }
   },
   "source": [
    "import mlflow\n",
    "\n",
    "EXPERIMENT_NAME = \"SPAMASSASSIN_EMAIL_SPAM_HAM_CLASSIFIER4\"\n",
    "EXPERIMENT_ID = mlflow.create_experiment(EXPERIMENT_NAME)"
   ],
   "outputs": [],
   "execution_count": 40
  },
  {
   "metadata": {},
   "cell_type": "markdown",
   "source": "# Refresh the page so that you can view the newly created experiment"
  },
  {
   "cell_type": "markdown",
   "metadata": {},
   "source": [
    "# If you need to access this experiment once more, we could do that with code below:"
   ]
  },
  {
   "cell_type": "code",
   "metadata": {
    "ExecuteTime": {
     "end_time": "2024-09-13T08:49:23.738555Z",
     "start_time": "2024-09-13T08:49:23.699996Z"
    }
   },
   "source": [
    "current_experiment=dict(mlflow.get_experiment_by_name(EXPERIMENT_NAME))\n",
    "experiment_id=current_experiment['experiment_id']\n",
    "print(current_experiment)\n",
    "print(experiment_id)"
   ],
   "outputs": [
    {
     "name": "stdout",
     "output_type": "stream",
     "text": [
      "{'artifact_location': 'mlflow-artifacts:/772710210198280983', 'creation_time': 1726217358931, 'experiment_id': '772710210198280983', 'last_update_time': 1726217358931, 'lifecycle_stage': 'active', 'name': 'SPAMASSASSIN_EMAIL_SPAM_HAM_CLASSIFIER4', 'tags': {}}\n",
      "772710210198280983\n"
     ]
    }
   ],
   "execution_count": 41
  },
  {
   "cell_type": "markdown",
   "metadata": {},
   "source": [
    "# Define experiment tracking function. We will not call that function as yet"
   ]
  },
  {
   "cell_type": "code",
   "metadata": {
    "ExecuteTime": {
     "end_time": "2024-09-13T08:49:26.549782Z",
     "start_time": "2024-09-13T08:49:26.524119Z"
    }
   },
   "source": [
    "import mlflow.data\n",
    "from mlflow.data.pandas_dataset import PandasDataset\n",
    "from sklearn.model_selection import cross_validate\n",
    "from sklearn.feature_extraction.text import CountVectorizer, TfidfVectorizer\n",
    "from sklearn.metrics import make_scorer, accuracy_score, precision_score, recall_score, f1_score\n",
    "from sklearn.naive_bayes import MultinomialNB\n",
    "from sklearn.linear_model import LogisticRegression\n",
    "from sklearn.ensemble import RandomForestClassifier\n",
    "from xgboost import XGBClassifier\n",
    "\n",
    "# Set the MLflow tracking URI\n",
    "mlflow.set_tracking_uri(uri=\"http://127.0.0.1:5000\")\n",
    "\n",
    "def evaluate_models(train_data, train_labels, experiment_id):\n",
    "    print(experiment_id)\n",
    "    \n",
    "    training_df = pd.concat([X_train['text'], y_train], axis =1).reset_index(drop = True)\n",
    "    # Models to evaluate\n",
    "    models = {\n",
    "        \"Naive Bayes\": MultinomialNB(),\n",
    "        \"Logistic Regression\": LogisticRegression(),\n",
    "        \"Random Forest\": RandomForestClassifier(),\n",
    "        \"XGBoost\": XGBClassifier(use_label_encoder=False, eval_metric='logloss')\n",
    "    }\n",
    "\n",
    "    # Metrics\n",
    "    scoring = {'accuracy': make_scorer(accuracy_score),\n",
    "               'precision': make_scorer(precision_score),\n",
    "               'recall': make_scorer(recall_score),\n",
    "               'f1': make_scorer(f1_score)}\n",
    "\n",
    "    # Vectorizations\n",
    "    vectorizers = {\n",
    "        \"BoW\": CountVectorizer(),\n",
    "        \"TF-IDF\": TfidfVectorizer()\n",
    "    }\n",
    "    \n",
    "    results = []\n",
    "    for vect_name, vectorizer in vectorizers.items():\n",
    "            X = vectorizer.fit_transform(train_data)\n",
    "\n",
    "            for model_name, model in models.items():\n",
    "                vect_mod_name = vect_name +'_'+model_name\n",
    "                # Cross-Validate the model\n",
    "                RUN_NAME = f\"run_{vect_mod_name}\"\n",
    "                mlflow.end_run()\n",
    "                with mlflow.start_run(experiment_id=experiment_id, run_name=RUN_NAME) as run:\n",
    "                    # Retrieve run id\n",
    "                    RUN_ID = run.info.run_id\n",
    "\n",
    "                    cv_results = cross_validate(model, X, train_labels, scoring=['accuracy', 'precision', 'recall', 'f1'], cv=3, return_train_score=False)\n",
    "                    for i in range(3):\n",
    "                        iteration_result = {\n",
    "                            'Iteration': i + 1,\n",
    "                            'Model': model_name,\n",
    "                            'Vectorizer': vect_name,\n",
    "                            'Accuracy': cv_results['test_accuracy'][i],\n",
    "                            'Precision': cv_results['test_precision'][i],\n",
    "                            'Recall': cv_results['test_recall'][i],\n",
    "                            'F1 Score': cv_results['test_f1'][i]\n",
    "                        }\n",
    "                        results.append(iteration_result)                       \n",
    "                    # Calculating the metrics means\n",
    "                    mean_result = {\n",
    "                        'Iteration': 'Mean',\n",
    "                        'Model': model_name,\n",
    "                        'Vectorizer': vect_name,\n",
    "                        'Accuracy': np.mean(cv_results['test_accuracy']),\n",
    "                        'Precision': np.mean(cv_results['test_precision']),\n",
    "                        'Recall': np.mean(cv_results['test_recall']),\n",
    "                        'F1 Score': np.mean(cv_results['test_f1'])\n",
    "                    }\n",
    "                    results.append(mean_result)\n",
    "                    \n",
    "                    \n",
    "                    # Track metrics\n",
    "                    mlflow.log_metric(f\"cv_3_{vect_mod_name}_accuracy\", mean_result['Accuracy'])\n",
    "                    mlflow.log_metric(f\"cv_3_{vect_mod_name}_precision\", mean_result['Precision'])\n",
    "                    mlflow.log_metric(f\"cv_3_{vect_mod_name}_recall\", mean_result['Recall'])\n",
    "                    mlflow.log_metric(f\"cv_3_{vect_mod_name}_f1\", mean_result['F1 Score'])\n",
    "                    # Track model\n",
    "                    model.fit(X, train_labels)\n",
    "                    training_df[\"ModelOutput\"] = model.predict(X)\n",
    "                    dataset = mlflow.data.from_pandas(training_df, targets=\"target\", predictions=\"ModelOutput\", name = f\"data_{vect_mod_name}\")\n",
    "                    mlflow.log_input(dataset, context=\"training\")\n",
    "                    \n",
    "                    if model_name == \"XGBoost\":\n",
    "                        mlflow.xgboost.log_model(model, \"model\")\n",
    "                    else:\n",
    "                        mlflow.sklearn.log_model(model, \"model\")\n",
    "                                \n",
    "                    mlflow.end_run() \n",
    "        \n",
    " \n",
    "    return pd.DataFrame(results)"
   ],
   "outputs": [],
   "execution_count": 42
  },
  {
   "cell_type": "code",
   "metadata": {
    "ExecuteTime": {
     "end_time": "2024-09-13T08:49:32.594090Z",
     "start_time": "2024-09-13T08:49:32.583982Z"
    }
   },
   "source": [
    "X_train['text']"
   ],
   "outputs": [
    {
     "data": {
      "text/plain": [
       "5813    From bmortgage@ig.com.br Sun Sep 22 23:59:12 2...\n",
       "4395    From floyd@streamlineb2b.net Mon Jun 24 17:45:...\n",
       "5207    From bmt988b@netscape.net Mon Jun 24 17:06:38 ...\n",
       "3981    From moviedbjwuede@mandic.com.br Mon Dec 2 11:...\n",
       "2211    Received: from hq.pro-ns.net (localhost [127.0...\n",
       "                              ...                        \n",
       "3637    From justin.armstrong@acm.org Mon Sep 2 12:29:...\n",
       "3421    From ilug-admin@linux.ie Thu Aug 8 14:11:51 20...\n",
       "5280    From cvru@hotmail.com Mon Jun 24 17:06:48 2002...\n",
       "2788    From spamassassin@localhost Mon Jun 24 17:04:1...\n",
       "1957    From fork-admin@xent.com Tue Aug 6 12:01:13 20...\n",
       "Name: text, Length: 3025, dtype: object"
      ]
     },
     "execution_count": 43,
     "metadata": {},
     "output_type": "execute_result"
    }
   ],
   "execution_count": 43
  },
  {
   "cell_type": "code",
   "metadata": {
    "ExecuteTime": {
     "end_time": "2024-09-13T08:49:35.809284Z",
     "start_time": "2024-09-13T08:49:35.803285Z"
    }
   },
   "source": [
    "y_train"
   ],
   "outputs": [
    {
     "data": {
      "text/plain": [
       "5813    1\n",
       "4395    1\n",
       "5207    1\n",
       "3981    1\n",
       "2211    1\n",
       "       ..\n",
       "3637    0\n",
       "3421    0\n",
       "5280    1\n",
       "2788    1\n",
       "1957    1\n",
       "Name: target, Length: 3025, dtype: int32"
      ]
     },
     "execution_count": 44,
     "metadata": {},
     "output_type": "execute_result"
    }
   ],
   "execution_count": 44
  },
  {
   "cell_type": "markdown",
   "metadata": {},
   "source": "# Below we call the experiment-tracking function Keep On refreshing mlflow page to see model training live."
  },
  {
   "cell_type": "code",
   "metadata": {
    "ExecuteTime": {
     "end_time": "2024-09-13T08:52:00.518414Z",
     "start_time": "2024-09-13T08:49:39.149186Z"
    }
   },
   "source": [
    "email_res = evaluate_models(X_train['text'], y_train, experiment_id)"
   ],
   "outputs": [
    {
     "name": "stdout",
     "output_type": "stream",
     "text": [
      "772710210198280983\n"
     ]
    }
   ],
   "execution_count": 45
  },
  {
   "cell_type": "markdown",
   "metadata": {},
   "source": [
    "# Define a function for Visualizing model results"
   ]
  },
  {
   "cell_type": "code",
   "metadata": {
    "ExecuteTime": {
     "end_time": "2024-09-13T08:52:19.007977Z",
     "start_time": "2024-09-13T08:52:18.997630Z"
    }
   },
   "source": [
    "def viz_result_metric(data):\n",
    "    plt.figure(figsize=(15, 8))\n",
    "\n",
    "    metrics = ['Accuracy', 'Precision', 'Recall', 'F1 Score']\n",
    "    for i, metric in enumerate(metrics, 1):\n",
    "        plt.subplot(2, 2, i)\n",
    "        sns.lineplot(data=data, x='Iteration', y=metric, hue='Model', style='Vectorizer', markers=True)\n",
    "        plt.title(f'Model Performance: {metric}')\n",
    "        plt.xlabel('Iteration')\n",
    "        plt.ylabel(metric)\n",
    "        plt.legend(title='Models / Vectorizer', bbox_to_anchor=(1.05, 1), loc='upper left')\n",
    "\n",
    "    plt.tight_layout()\n",
    "    plt.show()"
   ],
   "outputs": [],
   "execution_count": 46
  },
  {
   "metadata": {},
   "cell_type": "markdown",
   "source": "# Visualize the data iteration but exclude the metrics Mean"
  },
  {
   "cell_type": "code",
   "metadata": {
    "ExecuteTime": {
     "end_time": "2024-09-13T08:52:24.675769Z",
     "start_time": "2024-09-13T08:52:23.333101Z"
    }
   },
   "source": [
    "viz_result_metric( email_res[email_res['Iteration'] != 'Mean'])"
   ],
   "outputs": [
    {
     "data": {
      "text/plain": [
       "<Figure size 1500x800 with 4 Axes>"
      ],
      "image/png": "[encoded data removed]"
     },
     "metadata": {},
     "output_type": "display_data"
    }
   ],
   "execution_count": 47
  },
  {
   "cell_type": "markdown",
   "metadata": {},
   "source": [
    "# create data-pipeline"
   ]
  },
  {
   "cell_type": "code",
   "metadata": {
    "ExecuteTime": {
     "end_time": "2024-09-13T08:52:31.775490Z",
     "start_time": "2024-09-13T08:52:29.207962Z"
    }
   },
   "source": [
    "from sklearn.pipeline import Pipeline\n",
    "from sklearn.feature_extraction.text import CountVectorizer\n",
    "from xgboost import XGBClassifier\n",
    "\n",
    "vectorizer = CountVectorizer()\n",
    "xgboost_classifier = XGBClassifier(use_label_encoder=False, eval_metric='logloss')  \n",
    "\n",
    "# Creating a pipeline for the whole process\n",
    "pipeline = Pipeline([\n",
    "    ('vectorizer', vectorizer),\n",
    "    ('classifier', xgboost_classifier)\n",
    "])\n",
    "\n",
    "pipeline.fit(X_train['text'], y_train)"
   ],
   "outputs": [
    {
     "data": {
      "text/plain": [
       "Pipeline(steps=[('vectorizer', CountVectorizer()),\n",
       "                ('classifier',\n",
       "                 XGBClassifier(base_score=None, booster=None, callbacks=None,\n",
       "                               colsample_bylevel=None, colsample_bynode=None,\n",
       "                               colsample_bytree=None, device=None,\n",
       "                               early_stopping_rounds=None,\n",
       "                               enable_categorical=False, eval_metric='logloss',\n",
       "                               feature_types=None, gamma=None, grow_policy=None,\n",
       "                               importance_type=None,\n",
       "                               interaction_constraints=None, learning_rate=None,\n",
       "                               max_bin=None, max_cat_threshold=None,\n",
       "                               max_cat_to_onehot=None, max_delta_step=None,\n",
       "                               max_depth=None, max_leaves=None,\n",
       "                               min_child_weight=None, missing=nan,\n",
       "                               monotone_constraints=None, multi_strategy=None,\n",
       "                               n_estimators=None, n_jobs=None,\n",
       "                               num_parallel_tree=None, random_state=None, ...))])"
      ],
      "text/html": [
       "<style>#sk-container-id-1 {\n",
       "  /* Definition of color scheme common for light and dark mode */\n",
       "  --sklearn-color-text: black;\n",
       "  --sklearn-color-line: gray;\n",
       "  /* Definition of color scheme for unfitted estimators */\n",
       "  --sklearn-color-unfitted-level-0: #fff5e6;\n",
       "  --sklearn-color-unfitted-level-1: #f6e4d2;\n",
       "  --sklearn-color-unfitted-level-2: #ffe0b3;\n",
       "  --sklearn-color-unfitted-level-3: chocolate;\n",
       "  /* Definition of color scheme for fitted estimators */\n",
       "  --sklearn-color-fitted-level-0: #f0f8ff;\n",
       "  --sklearn-color-fitted-level-1: #d4ebff;\n",
       "  --sklearn-color-fitted-level-2: #b3dbfd;\n",
       "  --sklearn-color-fitted-level-3: cornflowerblue;\n",
       "\n",
       "  /* Specific color for light theme */\n",
       "  --sklearn-color-text-on-default-background: var(--sg-text-color, var(--theme-code-foreground, var(--jp-content-font-color1, black)));\n",
       "  --sklearn-color-background: var(--sg-background-color, var(--theme-background, var(--jp-layout-color0, white)));\n",
       "  --sklearn-color-border-box: var(--sg-text-color, var(--theme-code-foreground, var(--jp-content-font-color1, black)));\n",
       "  --sklearn-color-icon: #696969;\n",
       "\n",
       "  @media (prefers-color-scheme: dark) {\n",
       "    /* Redefinition of color scheme for dark theme */\n",
       "    --sklearn-color-text-on-default-background: var(--sg-text-color, var(--theme-code-foreground, var(--jp-content-font-color1, white)));\n",
       "    --sklearn-color-background: var(--sg-background-color, var(--theme-background, var(--jp-layout-color0, #111)));\n",
       "    --sklearn-color-border-box: var(--sg-text-color, var(--theme-code-foreground, var(--jp-content-font-color1, white)));\n",
       "    --sklearn-color-icon: #878787;\n",
       "  }\n",
       "}\n",
       "\n",
       "#sk-container-id-1 {\n",
       "  color: var(--sklearn-color-text);\n",
       "}\n",
       "\n",
       "#sk-container-id-1 pre {\n",
       "  padding: 0;\n",
       "}\n",
       "\n",
       "#sk-container-id-1 input.sk-hidden--visually {\n",
       "  border: 0;\n",
       "  clip: rect(1px 1px 1px 1px);\n",
       "  clip: rect(1px, 1px, 1px, 1px);\n",
       "  height: 1px;\n",
       "  margin: -1px;\n",
       "  overflow: hidden;\n",
       "  padding: 0;\n",
       "  position: absolute;\n",
       "  width: 1px;\n",
       "}\n",
       "\n",
       "#sk-container-id-1 div.sk-dashed-wrapped {\n",
       "  border: 1px dashed var(--sklearn-color-line);\n",
       "  margin: 0 0.4em 0.5em 0.4em;\n",
       "  box-sizing: border-box;\n",
       "  padding-bottom: 0.4em;\n",
       "  background-color: var(--sklearn-color-background);\n",
       "}\n",
       "\n",
       "#sk-container-id-1 div.sk-container {\n",
       "  /* jupyter's `normalize.less` sets `[hidden] { display: none; }`\n",
       "     but bootstrap.min.css set `[hidden] { display: none !important; }`\n",
       "     so we also need the `!important` here to be able to override the\n",
       "     default hidden behavior on the sphinx rendered scikit-learn.org.\n",
       "     See: https://github.com/scikit-learn/scikit-learn/issues/21755 */\n",
       "  display: inline-block !important;\n",
       "  position: relative;\n",
       "}\n",
       "\n",
       "#sk-container-id-1 div.sk-text-repr-fallback {\n",
       "  display: none;\n",
       "}\n",
       "\n",
       "div.sk-parallel-item,\n",
       "div.sk-serial,\n",
       "div.sk-item {\n",
       "  /* draw centered vertical line to link estimators */\n",
       "  background-image: linear-gradient(var(--sklearn-color-text-on-default-background), var(--sklearn-color-text-on-default-background));\n",
       "  background-size: 2px 100%;\n",
       "  background-repeat: no-repeat;\n",
       "  background-position: center center;\n",
       "}\n",
       "\n",
       "/* Parallel-specific style estimator block */\n",
       "\n",
       "#sk-container-id-1 div.sk-parallel-item::after {\n",
       "  content: \"\";\n",
       "  width: 100%;\n",
       "  border-bottom: 2px solid var(--sklearn-color-text-on-default-background);\n",
       "  flex-grow: 1;\n",
       "}\n",
       "\n",
       "#sk-container-id-1 div.sk-parallel {\n",
       "  display: flex;\n",
       "  align-items: stretch;\n",
       "  justify-content: center;\n",
       "  background-color: var(--sklearn-color-background);\n",
       "  position: relative;\n",
       "}\n",
       "\n",
       "#sk-container-id-1 div.sk-parallel-item {\n",
       "  display: flex;\n",
       "  flex-direction: column;\n",
       "}\n",
       "\n",
       "#sk-container-id-1 div.sk-parallel-item:first-child::after {\n",
       "  align-self: flex-end;\n",
       "  width: 50%;\n",
       "}\n",
       "\n",
       "#sk-container-id-1 div.sk-parallel-item:last-child::after {\n",
       "  align-self: flex-start;\n",
       "  width: 50%;\n",
       "}\n",
       "\n",
       "#sk-container-id-1 div.sk-parallel-item:only-child::after {\n",
       "  width: 0;\n",
       "}\n",
       "\n",
       "/* Serial-specific style estimator block */\n",
       "\n",
       "#sk-container-id-1 div.sk-serial {\n",
       "  display: flex;\n",
       "  flex-direction: column;\n",
       "  align-items: center;\n",
       "  background-color: var(--sklearn-color-background);\n",
       "  padding-right: 1em;\n",
       "  padding-left: 1em;\n",
       "}\n",
       "\n",
       "\n",
       "/* Toggleable style: style used for estimator/Pipeline/ColumnTransformer box that is\n",
       "clickable and can be expanded/collapsed.\n",
       "- Pipeline and ColumnTransformer use this feature and define the default style\n",
       "- Estimators will overwrite some part of the style using the `sk-estimator` class\n",
       "*/\n",
       "\n",
       "/* Pipeline and ColumnTransformer style (default) */\n",
       "\n",
       "#sk-container-id-1 div.sk-toggleable {\n",
       "  /* Default theme specific background. It is overwritten whether we have a\n",
       "  specific estimator or a Pipeline/ColumnTransformer */\n",
       "  background-color: var(--sklearn-color-background);\n",
       "}\n",
       "\n",
       "/* Toggleable label */\n",
       "#sk-container-id-1 label.sk-toggleable__label {\n",
       "  cursor: pointer;\n",
       "  display: block;\n",
       "  width: 100%;\n",
       "  margin-bottom: 0;\n",
       "  padding: 0.5em;\n",
       "  box-sizing: border-box;\n",
       "  text-align: center;\n",
       "}\n",
       "\n",
       "#sk-container-id-1 label.sk-toggleable__label-arrow:before {\n",
       "  /* Arrow on the left of the label */\n",
       "  content: \"▸\";\n",
       "  float: left;\n",
       "  margin-right: 0.25em;\n",
       "  color: var(--sklearn-color-icon);\n",
       "}\n",
       "\n",
       "#sk-container-id-1 label.sk-toggleable__label-arrow:hover:before {\n",
       "  color: var(--sklearn-color-text);\n",
       "}\n",
       "\n",
       "/* Toggleable content - dropdown */\n",
       "\n",
       "#sk-container-id-1 div.sk-toggleable__content {\n",
       "  max-height: 0;\n",
       "  max-width: 0;\n",
       "  overflow: hidden;\n",
       "  text-align: left;\n",
       "  /* unfitted */\n",
       "  background-color: var(--sklearn-color-unfitted-level-0);\n",
       "}\n",
       "\n",
       "#sk-container-id-1 div.sk-toggleable__content.fitted {\n",
       "  /* fitted */\n",
       "  background-color: var(--sklearn-color-fitted-level-0);\n",
       "}\n",
       "\n",
       "#sk-container-id-1 div.sk-toggleable__content pre {\n",
       "  margin: 0.2em;\n",
       "  border-radius: 0.25em;\n",
       "  color: var(--sklearn-color-text);\n",
       "  /* unfitted */\n",
       "  background-color: var(--sklearn-color-unfitted-level-0);\n",
       "}\n",
       "\n",
       "#sk-container-id-1 div.sk-toggleable__content.fitted pre {\n",
       "  /* unfitted */\n",
       "  background-color: var(--sklearn-color-fitted-level-0);\n",
       "}\n",
       "\n",
       "#sk-container-id-1 input.sk-toggleable__control:checked~div.sk-toggleable__content {\n",
       "  /* Expand drop-down */\n",
       "  max-height: 200px;\n",
       "  max-width: 100%;\n",
       "  overflow: auto;\n",
       "}\n",
       "\n",
       "#sk-container-id-1 input.sk-toggleable__control:checked~label.sk-toggleable__label-arrow:before {\n",
       "  content: \"▾\";\n",
       "}\n",
       "\n",
       "/* Pipeline/ColumnTransformer-specific style */\n",
       "\n",
       "#sk-container-id-1 div.sk-label input.sk-toggleable__control:checked~label.sk-toggleable__label {\n",
       "  color: var(--sklearn-color-text);\n",
       "  background-color: var(--sklearn-color-unfitted-level-2);\n",
       "}\n",
       "\n",
       "#sk-container-id-1 div.sk-label.fitted input.sk-toggleable__control:checked~label.sk-toggleable__label {\n",
       "  background-color: var(--sklearn-color-fitted-level-2);\n",
       "}\n",
       "\n",
       "/* Estimator-specific style */\n",
       "\n",
       "/* Colorize estimator box */\n",
       "#sk-container-id-1 div.sk-estimator input.sk-toggleable__control:checked~label.sk-toggleable__label {\n",
       "  /* unfitted */\n",
       "  background-color: var(--sklearn-color-unfitted-level-2);\n",
       "}\n",
       "\n",
       "#sk-container-id-1 div.sk-estimator.fitted input.sk-toggleable__control:checked~label.sk-toggleable__label {\n",
       "  /* fitted */\n",
       "  background-color: var(--sklearn-color-fitted-level-2);\n",
       "}\n",
       "\n",
       "#sk-container-id-1 div.sk-label label.sk-toggleable__label,\n",
       "#sk-container-id-1 div.sk-label label {\n",
       "  /* The background is the default theme color */\n",
       "  color: var(--sklearn-color-text-on-default-background);\n",
       "}\n",
       "\n",
       "/* On hover, darken the color of the background */\n",
       "#sk-container-id-1 div.sk-label:hover label.sk-toggleable__label {\n",
       "  color: var(--sklearn-color-text);\n",
       "  background-color: var(--sklearn-color-unfitted-level-2);\n",
       "}\n",
       "\n",
       "/* Label box, darken color on hover, fitted */\n",
       "#sk-container-id-1 div.sk-label.fitted:hover label.sk-toggleable__label.fitted {\n",
       "  color: var(--sklearn-color-text);\n",
       "  background-color: var(--sklearn-color-fitted-level-2);\n",
       "}\n",
       "\n",
       "/* Estimator label */\n",
       "\n",
       "#sk-container-id-1 div.sk-label label {\n",
       "  font-family: monospace;\n",
       "  font-weight: bold;\n",
       "  display: inline-block;\n",
       "  line-height: 1.2em;\n",
       "}\n",
       "\n",
       "#sk-container-id-1 div.sk-label-container {\n",
       "  text-align: center;\n",
       "}\n",
       "\n",
       "/* Estimator-specific */\n",
       "#sk-container-id-1 div.sk-estimator {\n",
       "  font-family: monospace;\n",
       "  border: 1px dotted var(--sklearn-color-border-box);\n",
       "  border-radius: 0.25em;\n",
       "  box-sizing: border-box;\n",
       "  margin-bottom: 0.5em;\n",
       "  /* unfitted */\n",
       "  background-color: var(--sklearn-color-unfitted-level-0);\n",
       "}\n",
       "\n",
       "#sk-container-id-1 div.sk-estimator.fitted {\n",
       "  /* fitted */\n",
       "  background-color: var(--sklearn-color-fitted-level-0);\n",
       "}\n",
       "\n",
       "/* on hover */\n",
       "#sk-container-id-1 div.sk-estimator:hover {\n",
       "  /* unfitted */\n",
       "  background-color: var(--sklearn-color-unfitted-level-2);\n",
       "}\n",
       "\n",
       "#sk-container-id-1 div.sk-estimator.fitted:hover {\n",
       "  /* fitted */\n",
       "  background-color: var(--sklearn-color-fitted-level-2);\n",
       "}\n",
       "\n",
       "/* Specification for estimator info (e.g. \"i\" and \"?\") */\n",
       "\n",
       "/* Common style for \"i\" and \"?\" */\n",
       "\n",
       ".sk-estimator-doc-link,\n",
       "a:link.sk-estimator-doc-link,\n",
       "a:visited.sk-estimator-doc-link {\n",
       "  float: right;\n",
       "  font-size: smaller;\n",
       "  line-height: 1em;\n",
       "  font-family: monospace;\n",
       "  background-color: var(--sklearn-color-background);\n",
       "  border-radius: 1em;\n",
       "  height: 1em;\n",
       "  width: 1em;\n",
       "  text-decoration: none !important;\n",
       "  margin-left: 1ex;\n",
       "  /* unfitted */\n",
       "  border: var(--sklearn-color-unfitted-level-1) 1pt solid;\n",
       "  color: var(--sklearn-color-unfitted-level-1);\n",
       "}\n",
       "\n",
       ".sk-estimator-doc-link.fitted,\n",
       "a:link.sk-estimator-doc-link.fitted,\n",
       "a:visited.sk-estimator-doc-link.fitted {\n",
       "  /* fitted */\n",
       "  border: var(--sklearn-color-fitted-level-1) 1pt solid;\n",
       "  color: var(--sklearn-color-fitted-level-1);\n",
       "}\n",
       "\n",
       "/* On hover */\n",
       "div.sk-estimator:hover .sk-estimator-doc-link:hover,\n",
       ".sk-estimator-doc-link:hover,\n",
       "div.sk-label-container:hover .sk-estimator-doc-link:hover,\n",
       ".sk-estimator-doc-link:hover {\n",
       "  /* unfitted */\n",
       "  background-color: var(--sklearn-color-unfitted-level-3);\n",
       "  color: var(--sklearn-color-background);\n",
       "  text-decoration: none;\n",
       "}\n",
       "\n",
       "div.sk-estimator.fitted:hover .sk-estimator-doc-link.fitted:hover,\n",
       ".sk-estimator-doc-link.fitted:hover,\n",
       "div.sk-label-container:hover .sk-estimator-doc-link.fitted:hover,\n",
       ".sk-estimator-doc-link.fitted:hover {\n",
       "  /* fitted */\n",
       "  background-color: var(--sklearn-color-fitted-level-3);\n",
       "  color: var(--sklearn-color-background);\n",
       "  text-decoration: none;\n",
       "}\n",
       "\n",
       "/* Span, style for the box shown on hovering the info icon */\n",
       ".sk-estimator-doc-link span {\n",
       "  display: none;\n",
       "  z-index: 9999;\n",
       "  position: relative;\n",
       "  font-weight: normal;\n",
       "  right: .2ex;\n",
       "  padding: .5ex;\n",
       "  margin: .5ex;\n",
       "  width: min-content;\n",
       "  min-width: 20ex;\n",
       "  max-width: 50ex;\n",
       "  color: var(--sklearn-color-text);\n",
       "  box-shadow: 2pt 2pt 4pt #999;\n",
       "  /* unfitted */\n",
       "  background: var(--sklearn-color-unfitted-level-0);\n",
       "  border: .5pt solid var(--sklearn-color-unfitted-level-3);\n",
       "}\n",
       "\n",
       ".sk-estimator-doc-link.fitted span {\n",
       "  /* fitted */\n",
       "  background: var(--sklearn-color-fitted-level-0);\n",
       "  border: var(--sklearn-color-fitted-level-3);\n",
       "}\n",
       "\n",
       ".sk-estimator-doc-link:hover span {\n",
       "  display: block;\n",
       "}\n",
       "\n",
       "/* \"?\"-specific style due to the `<a>` HTML tag */\n",
       "\n",
       "#sk-container-id-1 a.estimator_doc_link {\n",
       "  float: right;\n",
       "  font-size: 1rem;\n",
       "  line-height: 1em;\n",
       "  font-family: monospace;\n",
       "  background-color: var(--sklearn-color-background);\n",
       "  border-radius: 1rem;\n",
       "  height: 1rem;\n",
       "  width: 1rem;\n",
       "  text-decoration: none;\n",
       "  /* unfitted */\n",
       "  color: var(--sklearn-color-unfitted-level-1);\n",
       "  border: var(--sklearn-color-unfitted-level-1) 1pt solid;\n",
       "}\n",
       "\n",
       "#sk-container-id-1 a.estimator_doc_link.fitted {\n",
       "  /* fitted */\n",
       "  border: var(--sklearn-color-fitted-level-1) 1pt solid;\n",
       "  color: var(--sklearn-color-fitted-level-1);\n",
       "}\n",
       "\n",
       "/* On hover */\n",
       "#sk-container-id-1 a.estimator_doc_link:hover {\n",
       "  /* unfitted */\n",
       "  background-color: var(--sklearn-color-unfitted-level-3);\n",
       "  color: var(--sklearn-color-background);\n",
       "  text-decoration: none;\n",
       "}\n",
       "\n",
       "#sk-container-id-1 a.estimator_doc_link.fitted:hover {\n",
       "  /* fitted */\n",
       "  background-color: var(--sklearn-color-fitted-level-3);\n",
       "}\n",
       "</style><div id=\"sk-container-id-1\" class=\"sk-top-container\"><div class=\"sk-text-repr-fallback\"><pre>Pipeline(steps=[(&#x27;vectorizer&#x27;, CountVectorizer()),\n",
       "                (&#x27;classifier&#x27;,\n",
       "                 XGBClassifier(base_score=None, booster=None, callbacks=None,\n",
       "                               colsample_bylevel=None, colsample_bynode=None,\n",
       "                               colsample_bytree=None, device=None,\n",
       "                               early_stopping_rounds=None,\n",
       "                               enable_categorical=False, eval_metric=&#x27;logloss&#x27;,\n",
       "                               feature_types=None, gamma=None, grow_policy=None,\n",
       "                               importance_type=None,\n",
       "                               interaction_constraints=None, learning_rate=None,\n",
       "                               max_bin=None, max_cat_threshold=None,\n",
       "                               max_cat_to_onehot=None, max_delta_step=None,\n",
       "                               max_depth=None, max_leaves=None,\n",
       "                               min_child_weight=None, missing=nan,\n",
       "                               monotone_constraints=None, multi_strategy=None,\n",
       "                               n_estimators=None, n_jobs=None,\n",
       "                               num_parallel_tree=None, random_state=None, ...))])</pre><b>In a Jupyter environment, please rerun this cell to show the HTML representation or trust the notebook. <br />On GitHub, the HTML representation is unable to render, please try loading this page with nbviewer.org.</b></div><div class=\"sk-container\" hidden><div class=\"sk-item sk-dashed-wrapped\"><div class=\"sk-label-container\"><div class=\"sk-label fitted sk-toggleable\"><input class=\"sk-toggleable__control sk-hidden--visually\" id=\"sk-estimator-id-1\" type=\"checkbox\" ><label for=\"sk-estimator-id-1\" class=\"sk-toggleable__label fitted sk-toggleable__label-arrow fitted\">&nbsp;&nbsp;Pipeline<a class=\"sk-estimator-doc-link fitted\" rel=\"noreferrer\" target=\"_blank\" href=\"https://scikit-learn.org/1.4/modules/generated/sklearn.pipeline.Pipeline.html\">?<span>Documentation for Pipeline</span></a><span class=\"sk-estimator-doc-link fitted\">i<span>Fitted</span></span></label><div class=\"sk-toggleable__content fitted\"><pre>Pipeline(steps=[(&#x27;vectorizer&#x27;, CountVectorizer()),\n",
       "                (&#x27;classifier&#x27;,\n",
       "                 XGBClassifier(base_score=None, booster=None, callbacks=None,\n",
       "                               colsample_bylevel=None, colsample_bynode=None,\n",
       "                               colsample_bytree=None, device=None,\n",
       "                               early_stopping_rounds=None,\n",
       "                               enable_categorical=False, eval_metric=&#x27;logloss&#x27;,\n",
       "                               feature_types=None, gamma=None, grow_policy=None,\n",
       "                               importance_type=None,\n",
       "                               interaction_constraints=None, learning_rate=None,\n",
       "                               max_bin=None, max_cat_threshold=None,\n",
       "                               max_cat_to_onehot=None, max_delta_step=None,\n",
       "                               max_depth=None, max_leaves=None,\n",
       "                               min_child_weight=None, missing=nan,\n",
       "                               monotone_constraints=None, multi_strategy=None,\n",
       "                               n_estimators=None, n_jobs=None,\n",
       "                               num_parallel_tree=None, random_state=None, ...))])</pre></div> </div></div><div class=\"sk-serial\"><div class=\"sk-item\"><div class=\"sk-estimator fitted sk-toggleable\"><input class=\"sk-toggleable__control sk-hidden--visually\" id=\"sk-estimator-id-2\" type=\"checkbox\" ><label for=\"sk-estimator-id-2\" class=\"sk-toggleable__label fitted sk-toggleable__label-arrow fitted\">&nbsp;CountVectorizer<a class=\"sk-estimator-doc-link fitted\" rel=\"noreferrer\" target=\"_blank\" href=\"https://scikit-learn.org/1.4/modules/generated/sklearn.feature_extraction.text.CountVectorizer.html\">?<span>Documentation for CountVectorizer</span></a></label><div class=\"sk-toggleable__content fitted\"><pre>CountVectorizer()</pre></div> </div></div><div class=\"sk-item\"><div class=\"sk-estimator fitted sk-toggleable\"><input class=\"sk-toggleable__control sk-hidden--visually\" id=\"sk-estimator-id-3\" type=\"checkbox\" ><label for=\"sk-estimator-id-3\" class=\"sk-toggleable__label fitted sk-toggleable__label-arrow fitted\">XGBClassifier</label><div class=\"sk-toggleable__content fitted\"><pre>XGBClassifier(base_score=None, booster=None, callbacks=None,\n",
       "              colsample_bylevel=None, colsample_bynode=None,\n",
       "              colsample_bytree=None, device=None, early_stopping_rounds=None,\n",
       "              enable_categorical=False, eval_metric=&#x27;logloss&#x27;,\n",
       "              feature_types=None, gamma=None, grow_policy=None,\n",
       "              importance_type=None, interaction_constraints=None,\n",
       "              learning_rate=None, max_bin=None, max_cat_threshold=None,\n",
       "              max_cat_to_onehot=None, max_delta_step=None, max_depth=None,\n",
       "              max_leaves=None, min_child_weight=None, missing=nan,\n",
       "              monotone_constraints=None, multi_strategy=None, n_estimators=None,\n",
       "              n_jobs=None, num_parallel_tree=None, random_state=None, ...)</pre></div> </div></div></div></div></div></div>"
      ]
     },
     "execution_count": 48,
     "metadata": {},
     "output_type": "execute_result"
    }
   ],
   "execution_count": 48
  },
  {
   "cell_type": "markdown",
   "metadata": {},
   "source": [
    "# create the model object with Pickle."
   ]
  },
  {
   "cell_type": "code",
   "metadata": {
    "ExecuteTime": {
     "end_time": "2024-09-13T08:52:41.354912Z",
     "start_time": "2024-09-13T08:52:41.290956Z"
    }
   },
   "source": [
    "import pickle\n",
    "\n",
    "with open('spam_classifier_pipeline.pkl', 'wb') as file:\n",
    "    pickle.dump(pipeline, file)"
   ],
   "outputs": [],
   "execution_count": 49
  },
  {
   "metadata": {},
   "cell_type": "markdown",
   "source": "# Always better to immediately load the pickle mode to check (1) that corrupted model is not saved (2) That model predicts properly on some test case"
  },
  {
   "metadata": {
    "ExecuteTime": {
     "end_time": "2024-09-13T08:52:44.445537Z",
     "start_time": "2024-09-13T08:52:44.386045Z"
    }
   },
   "cell_type": "code",
   "source": [
    "import pickle\n",
    "filename = 'spam_classifier_pipeline.pkl'\n",
    "\n",
    "with open(filename, 'rb') as file:\n",
    "    model = pickle.load(file)"
   ],
   "outputs": [],
   "execution_count": 50
  },
  {
   "metadata": {},
   "cell_type": "markdown",
   "source": "# Test a ham test case. See that it looks like a spam but model correctly predicts it as Ham. Since it is spam-assassin log file it looks 'weird' to us. But the model is not fooled¶"
  },
  {
   "metadata": {
    "ExecuteTime": {
     "end_time": "2024-09-13T08:52:48.983058Z",
     "start_time": "2024-09-13T08:52:48.918494Z"
    }
   },
   "cell_type": "code",
   "source": [
    "import pandas as pd\n",
    "# Taking a known email from spam_assassin data-set which was marked as ham ('0')\n",
    "prediction1 = model.predict(pd.Series(\"From ilug-admin@linux.ie Mon Jul 29 11:28:02 2002 Return-Path: <ilug-admin@linux.ie> Delivered-To: yyyy@localhost.netnoteinc.com Received: from localhost (localhost [127.0.0.1]) by phobos.labs.netnoteinc.com (Postfix) with ESMTP id A13D94414F for <jm@localhost>; Mon, 29 Jul 2002 06:25:11 -0400 (EDT) Received: from phobos [127.0.0.1] by localhost with IMAP (fetchmail-5.9.0) for jm@localhost (single-drop); Mon, 29 Jul 2002 11:25:11 +0100 (IST) Received: from lugh.tuatha.org (root@lugh.tuatha.org [194.125.145.45]) by dogma.slashnull.org (8.11.6/8.11.6) with ESMTP id g6RHn7i17130 for <jm-ilug@jmason.org>; Sat, 27 Jul 2002 18:49:07 +0100 Received: from lugh (root@localhost [127.0.0.1]) by lugh.tuatha.org (8.9.3/8.9.3) with ESMTP id SAA25016; Sat, 27 Jul 2002 18:45:03 +0100 X-Authentication-Warning: lugh.tuatha.org: Host root@localhost [127.0.0.1] claimed to be lugh Received: from mail1.mail.iol.ie (mail1.mail.iol.ie [194.125.2.192]) by lugh.tuatha.org (8.9.3/8.9.3) with ESMTP id SAA24977 for <ilug@linux.ie>; Sat, 27 Jul 2002 18:44:56 +0100 Received: from dialup125-a.ts551.cwt.esat.net ([193.203.140.125] helo=Hobbiton.cod.ie) by mail1.mail.iol.ie with esmtp (Exim 3.35 #1) id 17YVVF-0001W4-00 for ilug@linux.ie; Sat, 27 Jul 2002 18:37:18 +0100 Received: (from cdaly@localhost) by Hobbiton.cod.ie (8.11.6/8.9.3) id g6RDRoO04681 for ilug@linux.ie; Sat, 27 Jul 2002 14:27:50 +0100 Date: Sat, 27 Jul 2002 14:27:49 +0100 From: Conor Daly <conor.daly@oceanfree.net> To: ILUG main list <ilug@linux.ie> Subject: Re: [ILUG] Architecture crossover trouble w RH7.2 (solved) Message-Id: <20020727142749.B4438@Hobbiton.cod.ie> Mail-Followup-To: ILUG main list <ilug@linux.ie> References: <0D443C91DCE9CD40B1C795BA222A729E018854FA@milexc01.maxtor.com> MIME-Version: 1.0 Content-Type: text/plain; charset=us-ascii Content-Disposition: inline User-Agent: Mutt/1.2.5i In-Reply-To: <0D443C91DCE9CD40B1C795BA222A729E018854FA@milexc01.maxtor.com>; from conor_wynne@maxtor.com on Fri, Jul 26, 2002 at 03:56:22PM +0100 Sender: ilug-admin@linux.ie Errors-To: ilug-admin@linux.ie X-Mailman-Version: 1.1 Precedence: bulk List-Id: Irish Linux Users' Group <ilug.linux.ie> X-Beenthere: ilug@linux.ie On Fri, Jul 26, 2002 at 03:56:22PM +0100 or so it is rumoured hereabouts, Wynne, Conor thought: > Surely it would be faster to save you conf files, install it on the box > again, copy back you confs and voila. > All you car about are the confs as the boite has no DATA right? Yeah, but then I'd have to remember _exactly_ which confs I'd modified and they're not all in /etc either... > Thats what I would do, but you sysadmins have to make life as difficult & > complicated as possible ;--) Yup... In this case, I had two issues. 1. I mirrored the disk to give to someone else to work on but the box he has available has only a P1 or P2 processor. 2. My celeron box has been crashing the backup software so I wanted to try out the backup in a different box to make sure it's hardware related. Again, it's also an interesting exercise... > Have you thought about mirroring the system drives? Might save you serious > hassle down the line. Oh, I'm doing that too. This is going to Africa so I'm aiming for as robust as possible with belt, braces and probably an all-in-one jumpsuit! I'll be mirroring the disk but that is worth only so much (eg. lightning strike taking out the disk(s) or system compromise) I'm also going for a backup to CDR with an automated restore http://www.mondorescue.org . The admin out there wouldn't be able to build the system again if the mobo got fried and the replacement was the wrong arch but an i386 compatible install will mean just dropping in the HD and booting (ish)... Conor -- Conor Daly <conor.daly@oceanfree.net> Domestic Sysadmin :-) --------------------- Faenor.cod.ie 2:32pm up 64 days, 23:49, 0 users, load average: 0.00, 0.00, 0.00 Hobbiton.cod.ie 2:19pm up 7 days, 20:56, 1 user, load average: 0.05, 0.02, 0.00 -- Irish Linux Users' Group: ilug@linux.ie http://www.linux.ie/mailman/listinfo/ilug for (un)subscription information. List maintainer: listmaster@linux.ie\"))[0]\n",
    "print(prediction1)"
   ],
   "outputs": [
    {
     "name": "stdout",
     "output_type": "stream",
     "text": [
      "0\n"
     ]
    }
   ],
   "execution_count": 51
  },
  {
   "metadata": {},
   "cell_type": "markdown",
   "source": "# Here is an email that I fabricated on the fly (un-known data) with all characteristics of a spam. Let's see if it is correctly detected as such.¶"
  },
  {
   "metadata": {
    "ExecuteTime": {
     "end_time": "2024-09-13T08:52:54.412914Z",
     "start_time": "2024-09-13T08:52:54.342785Z"
    }
   },
   "cell_type": "code",
   "source": [
    "prediction2 = model.predict(pd.Series('Hey! you have won a lottery! For claiming your prize send us your bank account number on http://superlottojackpot.com. Further on the basis of this victory we can give you cash loan of $200000000 at rate of just 0.5% per annum without any collateral and gurantee. Send us your bank account details. If you do not have bank account we can offer you one account with 5 credit cards which are life time free and which have annual interest rate of only 1%. Each has spending limit of $50000'))[0]\n",
    "print(prediction2)"
   ],
   "outputs": [
    {
     "name": "stdout",
     "output_type": "stream",
     "text": [
      "1\n"
     ]
    }
   ],
   "execution_count": 52
  },
  {
   "metadata": {},
   "cell_type": "raw",
   "source": " # so far so good. Now (A) Building and using streamlit app. (B) Creating docker containers for model tracking  and model drift analysis"
  },
  {
   "metadata": {},
   "cell_type": "raw",
   "source": "# now model front_end and model back_end were built and can be seen in Containers section of docker desktop under e2e_spam_classifier"
  },
  {
   "metadata": {},
   "cell_type": "raw",
   "source": [
    "# (3) Execute command after making cd to E2E_SPAM_CLASSIFIER :  PS TEJAS_E2E_EMAIL_SPAM\\E2E_SPAM_CLASSIFIER> docker-compose build.\n",
    " # PS D:\\TEAJS_E2E_EMAIL_SPAM\\E2E_SPAM_CLASSIFIER> docker-compose up"
   ]
  },
  {
   "metadata": {},
   "cell_type": "raw",
   "source": "# click on streamlit app UI 8501:8501 so that streamlit app opens in a browser at localhost: and paste 3 test emails from PUT_IN_STREAMLIT_APP.txt"
  },
  {
   "metadata": {},
   "cell_type": "raw",
   "source": "#  Now make a cd to TEJAS_E2E_EMAIL_SPAM\\E2E_SPAM_CLASSIFIER\\docker_airflow. Inside logs folder you will find 'dag_processor_manager' folder and 'scheduler folder'. Empty the contents of these two.  Even the two folders can be deleted."
  },
  {
   "metadata": {},
   "cell_type": "raw",
   "source": [
    "# Now  cd to scripts\\project_spam_classifier execute in same directory  docker build -t drift_detection_env .\n",
    "# (venv) PS C:\\TEAJS_E2E_EMAIL_SPAM\\E2E_SPAM_CLASSIFIER\\docker_airflow\\scripts\\project_spam_classifier>docker build -t drift_detection_env ."
   ]
  },
  {
   "metadata": {},
   "cell_type": "raw",
   "source": "# # Next execute (venv) PS C:\\TEAJS_E2E_EMAIL_SPAM\\E2E_SPAM_CLASSIFIER\\docker_airflow\\scripts\\project_spam_classifier> docker-compose build\n"
  },
  {
   "metadata": {},
   "cell_type": "raw",
   "source": "# Next execute (venv) PS C:\\TEAJS_E2E_EMAIL_SPAM\\E2E_SPAM_CLASSIFIER\\docker_airflow\\scripts\\project_spam_classifier> docker-compose up"
  },
  {
   "metadata": {},
   "cell_type": "raw",
   "source": "# now seven more containers will be built and can be seen in Containers section of docker desktop under docker_airflow"
  },
  {
   "metadata": {},
   "cell_type": "markdown",
   "source": "# open airflow-webserver-1 at local host 8080:8080 and login with username 'airflow' and password 'airflow'. A DAG named spam_classifier_monthly_model_retraining  will be seen. Here we will discuss code underlying it."
  },
  {
   "metadata": {},
   "cell_type": "markdown",
   "source": "# now click Trigger DAG under Actions tab. Click the link spam_classifier_monthly_model_retraining. click the Graph tab"
  },
  {
   "metadata": {},
   "cell_type": "code",
   "source": "",
   "outputs": [],
   "execution_count": null
  }
 ],
 "metadata": {
  "kernelspec": {
   "display_name": "spam_ham_venv",
   "language": "python",
   "name": "python3"
  },
  "language_info": {
   "codemirror_mode": {
    "name": "ipython",
    "version": 3
   },
   "file_extension": ".py",
   "mimetype": "text/x-python",
   "name": "python",
   "nbconvert_exporter": "python",
   "pygments_lexer": "ipython3",
   "version": "3.12.2"
  }
 },
 "nbformat": 4,
 "nbformat_minor": 2
}
